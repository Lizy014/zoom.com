{
 "cells": [
  {
   "cell_type": "code",
   "execution_count": null,
   "id": "1232631d",
   "metadata": {},
   "outputs": [],
   "source": [
    "print function"
   ]
  },
  {
   "cell_type": "code",
   "execution_count": 1,
   "id": "1201e1c2",
   "metadata": {},
   "outputs": [
    {
     "name": "stdout",
     "output_type": "stream",
     "text": [
      "hello falkirk\n"
     ]
    }
   ],
   "source": [
    "print(\"hello falkirk\")"
   ]
  },
  {
   "cell_type": "code",
   "execution_count": 2,
   "id": "94755a8b",
   "metadata": {},
   "outputs": [
    {
     "name": "stdout",
     "output_type": "stream",
     "text": [
      "0\n"
     ]
    }
   ],
   "source": [
    "print(10%2)"
   ]
  },
  {
   "cell_type": "code",
   "execution_count": 3,
   "id": "fa30fc3a",
   "metadata": {},
   "outputs": [
    {
     "name": "stdout",
     "output_type": "stream",
     "text": [
      "goat\n"
     ]
    }
   ],
   "source": [
    "print(\"goat\")"
   ]
  },
  {
   "cell_type": "code",
   "execution_count": null,
   "id": "d31f8be5",
   "metadata": {},
   "outputs": [],
   "source": [
    "arithematics "
   ]
  },
  {
   "cell_type": "code",
   "execution_count": 6,
   "id": "d93c1c2a",
   "metadata": {},
   "outputs": [
    {
     "name": "stdout",
     "output_type": "stream",
     "text": [
      "10000\n"
     ]
    }
   ],
   "source": [
    "print(100 ** 2)"
   ]
  },
  {
   "cell_type": "code",
   "execution_count": 7,
   "id": "a34c49a6",
   "metadata": {},
   "outputs": [
    {
     "name": "stdout",
     "output_type": "stream",
     "text": [
      "200\n"
     ]
    }
   ],
   "source": [
    "print(100*2)"
   ]
  },
  {
   "cell_type": "code",
   "execution_count": 121,
   "id": "7d37e0af",
   "metadata": {},
   "outputs": [
    {
     "name": "stdout",
     "output_type": "stream",
     "text": [
      "1\n"
     ]
    }
   ],
   "source": [
    "print(4//3)"
   ]
  },
  {
   "cell_type": "code",
   "execution_count": 124,
   "id": "9025e749",
   "metadata": {},
   "outputs": [
    {
     "name": "stdout",
     "output_type": "stream",
     "text": [
      "0.33333333333333326\n"
     ]
    }
   ],
   "source": [
    "print((4/3)%1) #reminder alone is printed cos of the last syntax"
   ]
  },
  {
   "cell_type": "code",
   "execution_count": 123,
   "id": "28086897",
   "metadata": {},
   "outputs": [
    {
     "name": "stdout",
     "output_type": "stream",
     "text": [
      "1.3333333333333333\n"
     ]
    }
   ],
   "source": [
    "print(4/3)"
   ]
  },
  {
   "cell_type": "code",
   "execution_count": 21,
   "id": "5c138c55",
   "metadata": {},
   "outputs": [
    {
     "name": "stdout",
     "output_type": "stream",
     "text": [
      "0.8989794855663558\n"
     ]
    }
   ],
   "source": [
    "print((24**(1/2)+(3**2))%1)"
   ]
  },
  {
   "cell_type": "code",
   "execution_count": 22,
   "id": "c5d02981",
   "metadata": {},
   "outputs": [
    {
     "name": "stdout",
     "output_type": "stream",
     "text": [
      "13.0\n"
     ]
    }
   ],
   "source": [
    "print((24**(1/2)+(3**2))//1)"
   ]
  },
  {
   "cell_type": "code",
   "execution_count": null,
   "id": "55aeaa2c",
   "metadata": {},
   "outputs": [],
   "source": [
    "data types"
   ]
  },
  {
   "cell_type": "code",
   "execution_count": 23,
   "id": "08690831",
   "metadata": {},
   "outputs": [
    {
     "data": {
      "text/plain": [
       "str"
      ]
     },
     "execution_count": 23,
     "metadata": {},
     "output_type": "execute_result"
    }
   ],
   "source": [
    "type(\"hello falkirk\")"
   ]
  },
  {
   "cell_type": "code",
   "execution_count": 24,
   "id": "83c4821f",
   "metadata": {},
   "outputs": [
    {
     "data": {
      "text/plain": [
       "int"
      ]
     },
     "execution_count": 24,
     "metadata": {},
     "output_type": "execute_result"
    }
   ],
   "source": [
    "type(4//3)"
   ]
  },
  {
   "cell_type": "code",
   "execution_count": 25,
   "id": "2713d933",
   "metadata": {},
   "outputs": [
    {
     "data": {
      "text/plain": [
       "int"
      ]
     },
     "execution_count": 25,
     "metadata": {},
     "output_type": "execute_result"
    }
   ],
   "source": [
    "type(4)"
   ]
  },
  {
   "cell_type": "code",
   "execution_count": 27,
   "id": "d9d65bf5",
   "metadata": {},
   "outputs": [
    {
     "data": {
      "text/plain": [
       "float"
      ]
     },
     "execution_count": 27,
     "metadata": {},
     "output_type": "execute_result"
    }
   ],
   "source": [
    "type((24**(1/2)+(3**2))%1)"
   ]
  },
  {
   "cell_type": "code",
   "execution_count": 2,
   "id": "32b4037f",
   "metadata": {},
   "outputs": [
    {
     "data": {
      "text/plain": [
       "13"
      ]
     },
     "execution_count": 2,
     "metadata": {},
     "output_type": "execute_result"
    }
   ],
   "source": [
    "len(\"hello falkirk\")"
   ]
  },
  {
   "cell_type": "code",
   "execution_count": 4,
   "id": "c842f8b9",
   "metadata": {},
   "outputs": [
    {
     "ename": "TypeError",
     "evalue": "can only concatenate str (not \"int\") to str",
     "output_type": "error",
     "traceback": [
      "\u001b[1;31m---------------------------------------------------------------------------\u001b[0m",
      "\u001b[1;31mTypeError\u001b[0m                                 Traceback (most recent call last)",
      "Cell \u001b[1;32mIn[4], line 1\u001b[0m\n\u001b[1;32m----> 1\u001b[0m \u001b[38;5;28mlen\u001b[39m(\u001b[38;5;124m\"\u001b[39m\u001b[38;5;124mhello\u001b[39m\u001b[38;5;124m\"\u001b[39m \u001b[38;5;241m+\u001b[39m \u001b[38;5;241m7\u001b[39m)\n",
      "\u001b[1;31mTypeError\u001b[0m: can only concatenate str (not \"int\") to str"
     ]
    }
   ],
   "source": [
    "len(\"hello\" + 7)"
   ]
  },
  {
   "cell_type": "code",
   "execution_count": null,
   "id": "834fd592",
   "metadata": {},
   "outputs": [],
   "source": [
    "variales"
   ]
  },
  {
   "cell_type": "code",
   "execution_count": 7,
   "id": "063b4448",
   "metadata": {},
   "outputs": [
    {
     "name": "stdout",
     "output_type": "stream",
     "text": [
      "9\n"
     ]
    }
   ],
   "source": [
    "lenght=5\n",
    "width=4\n",
    "area=(lenght+width)\n",
    "print(area)"
   ]
  },
  {
   "cell_type": "code",
   "execution_count": 12,
   "id": "be7c24bc",
   "metadata": {},
   "outputs": [
    {
     "name": "stdout",
     "output_type": "stream",
     "text": [
      "20\n"
     ]
    }
   ],
   "source": [
    "len=5\n",
    "width=4\n",
    "area=(len*width)\n",
    "print(area)"
   ]
  },
  {
   "cell_type": "code",
   "execution_count": 11,
   "id": "33b0aefb",
   "metadata": {},
   "outputs": [
    {
     "name": "stdout",
     "output_type": "stream",
     "text": [
      "40\n"
     ]
    }
   ],
   "source": [
    "height=10\n",
    "base=4\n",
    "area=(height*base)\n",
    "print(area)"
   ]
  },
  {
   "cell_type": "code",
   "execution_count": 17,
   "id": "6834a42d",
   "metadata": {},
   "outputs": [
    {
     "name": "stdout",
     "output_type": "stream",
     "text": [
      "100\n"
     ]
    }
   ],
   "source": [
    "lenght=10\n",
    "width=2\n",
    "height=5\n",
    "volume=lenght*width*height\n",
    "print(volume)"
   ]
  },
  {
   "cell_type": "code",
   "execution_count": null,
   "id": "e4b520f8",
   "metadata": {},
   "outputs": [],
   "source": [
    "expressions, Numbers, and Type Conversions"
   ]
  },
  {
   "cell_type": "code",
   "execution_count": 26,
   "id": "6d5ea93a",
   "metadata": {},
   "outputs": [
    {
     "name": "stdout",
     "output_type": "stream",
     "text": [
      "the area of the triangle is = 40\n"
     ]
    }
   ],
   "source": [
    "height=10\n",
    "base=4\n",
    "area=(height*base)\n",
    "print(\"the area of the triangle is = \" +  str(area))"
   ]
  },
  {
   "cell_type": "code",
   "execution_count": 29,
   "id": "23445b35",
   "metadata": {},
   "outputs": [
    {
     "name": "stdout",
     "output_type": "stream",
     "text": [
      "The volume of the box is = 100\n"
     ]
    }
   ],
   "source": [
    "lenght=10\n",
    "width=2\n",
    "height=5\n",
    "volume=lenght*width*height\n",
    "print(\"The volume of the box is = \" +str(volume))"
   ]
  },
  {
   "cell_type": "code",
   "execution_count": 43,
   "id": "03ba3dd0",
   "metadata": {},
   "outputs": [
    {
     "name": "stdout",
     "output_type": "stream",
     "text": [
      "The sum of the lenghts is = 9.5\n"
     ]
    }
   ],
   "source": [
    "lenght1 =5\n",
    "lenght2 =4.5\n",
    "sum=(lenght+lenght2)\n",
    "print(\"The sum of the lenghts is = \" + str(sum))"
   ]
  },
  {
   "cell_type": "code",
   "execution_count": 42,
   "id": "befcd5ca",
   "metadata": {},
   "outputs": [
    {
     "name": "stdout",
     "output_type": "stream",
     "text": [
      "The sum of the lenghts is = 50\n"
     ]
    }
   ],
   "source": [
    "lenght1 =5\n",
    "lenght2 =45\n",
    "sum=(lenght1+lenght2)\n",
    "print(\"The sum of the lenghts is = \" + str(sum))"
   ]
  },
  {
   "cell_type": "code",
   "execution_count": 47,
   "id": "5f099ecf",
   "metadata": {},
   "outputs": [],
   "source": [
    "a=50"
   ]
  },
  {
   "cell_type": "code",
   "execution_count": 48,
   "id": "5f6965b7",
   "metadata": {},
   "outputs": [
    {
     "data": {
      "text/plain": [
       "int"
      ]
     },
     "execution_count": 48,
     "metadata": {},
     "output_type": "execute_result"
    }
   ],
   "source": [
    "type(a)"
   ]
  },
  {
   "cell_type": "code",
   "execution_count": 113,
   "id": "787e5405",
   "metadata": {},
   "outputs": [],
   "source": [
    "def sum_of_lenght(l1, l2,):\n",
    "    print(l1 + l2) + 2"
   ]
  },
  {
   "cell_type": "code",
   "execution_count": 114,
   "id": "196498ba",
   "metadata": {},
   "outputs": [
    {
     "name": "stdout",
     "output_type": "stream",
     "text": [
      "7\n"
     ]
    },
    {
     "ename": "TypeError",
     "evalue": "unsupported operand type(s) for +: 'NoneType' and 'int'",
     "output_type": "error",
     "traceback": [
      "\u001b[1;31m---------------------------------------------------------------------------\u001b[0m",
      "\u001b[1;31mTypeError\u001b[0m                                 Traceback (most recent call last)",
      "Cell \u001b[1;32mIn[114], line 1\u001b[0m\n\u001b[1;32m----> 1\u001b[0m sum_of_lenght(\u001b[38;5;241m3\u001b[39m,\u001b[38;5;241m4\u001b[39m)\n",
      "Cell \u001b[1;32mIn[113], line 2\u001b[0m, in \u001b[0;36msum_of_lenght\u001b[1;34m(l1, l2)\u001b[0m\n\u001b[0;32m      1\u001b[0m \u001b[38;5;28;01mdef\u001b[39;00m \u001b[38;5;21msum_of_lenght\u001b[39m(l1, l2,):\n\u001b[1;32m----> 2\u001b[0m     \u001b[38;5;28mprint\u001b[39m(l1 \u001b[38;5;241m+\u001b[39m l2) \u001b[38;5;241m+\u001b[39m \u001b[38;5;241m2\u001b[39m\n",
      "\u001b[1;31mTypeError\u001b[0m: unsupported operand type(s) for +: 'NoneType' and 'int'"
     ]
    }
   ],
   "source": [
    "sum_of_lenght(3,4)"
   ]
  },
  {
   "cell_type": "code",
   "execution_count": 116,
   "id": "1aa2739a",
   "metadata": {},
   "outputs": [],
   "source": [
    "def sum_of_lenght(l1, l2,):\n",
    "    print(l1 + l2)"
   ]
  },
  {
   "cell_type": "code",
   "execution_count": 117,
   "id": "11a9ec04",
   "metadata": {},
   "outputs": [
    {
     "name": "stdout",
     "output_type": "stream",
     "text": [
      "7\n"
     ]
    }
   ],
   "source": [
    "sum_of_lenght(3,4)"
   ]
  },
  {
   "cell_type": "code",
   "execution_count": 111,
   "id": "9711f609",
   "metadata": {},
   "outputs": [],
   "source": [
    "def sum_of_lenght(l1, l2,):\n",
    "    return(l1 + l2) + 2"
   ]
  },
  {
   "cell_type": "code",
   "execution_count": 112,
   "id": "89248d4f",
   "metadata": {},
   "outputs": [
    {
     "data": {
      "text/plain": [
       "9"
      ]
     },
     "execution_count": 112,
     "metadata": {},
     "output_type": "execute_result"
    }
   ],
   "source": [
    "sum_of_lenght(3, 4,)"
   ]
  },
  {
   "cell_type": "code",
   "execution_count": null,
   "id": "b9de3fb9",
   "metadata": {},
   "outputs": [],
   "source": [
    "sum_of_lenght(3, 5,) "
   ]
  },
  {
   "cell_type": "code",
   "execution_count": 49,
   "id": "37d3cff9",
   "metadata": {},
   "outputs": [
    {
     "data": {
      "text/plain": [
       "'50'"
      ]
     },
     "execution_count": 49,
     "metadata": {},
     "output_type": "execute_result"
    }
   ],
   "source": [
    "str(a)"
   ]
  },
  {
   "cell_type": "code",
   "execution_count": 52,
   "id": "fed23a64",
   "metadata": {},
   "outputs": [],
   "source": [
    "b=9.5"
   ]
  },
  {
   "cell_type": "code",
   "execution_count": 53,
   "id": "7003ec1c",
   "metadata": {},
   "outputs": [
    {
     "data": {
      "text/plain": [
       "float"
      ]
     },
     "execution_count": 53,
     "metadata": {},
     "output_type": "execute_result"
    }
   ],
   "source": [
    "type(b)"
   ]
  },
  {
   "cell_type": "code",
   "execution_count": 55,
   "id": "4abe909b",
   "metadata": {},
   "outputs": [
    {
     "data": {
      "text/plain": [
       "'9.5'"
      ]
     },
     "execution_count": 55,
     "metadata": {},
     "output_type": "execute_result"
    }
   ],
   "source": [
    "str(b)"
   ]
  },
  {
   "cell_type": "code",
   "execution_count": 57,
   "id": "763ebf7e",
   "metadata": {},
   "outputs": [
    {
     "data": {
      "text/plain": [
       "9.5"
      ]
     },
     "execution_count": 57,
     "metadata": {},
     "output_type": "execute_result"
    }
   ],
   "source": [
    "float(b)"
   ]
  },
  {
   "cell_type": "code",
   "execution_count": 60,
   "id": "8710ba2b",
   "metadata": {},
   "outputs": [
    {
     "data": {
      "text/plain": [
       "9"
      ]
     },
     "execution_count": 60,
     "metadata": {},
     "output_type": "execute_result"
    }
   ],
   "source": [
    "int(b)"
   ]
  },
  {
   "cell_type": "code",
   "execution_count": 61,
   "id": "f4b396dc",
   "metadata": {},
   "outputs": [
    {
     "data": {
      "text/plain": [
       "9"
      ]
     },
     "execution_count": 61,
     "metadata": {},
     "output_type": "execute_result"
    }
   ],
   "source": [
    "int(9.5)"
   ]
  },
  {
   "cell_type": "code",
   "execution_count": 63,
   "id": "077614e3",
   "metadata": {},
   "outputs": [
    {
     "data": {
      "text/plain": [
       "8.0"
      ]
     },
     "execution_count": 63,
     "metadata": {},
     "output_type": "execute_result"
    }
   ],
   "source": [
    "float(8)"
   ]
  },
  {
   "cell_type": "code",
   "execution_count": null,
   "id": "6447c7bd",
   "metadata": {},
   "outputs": [],
   "source": [
    "Expressions and Variables"
   ]
  },
  {
   "cell_type": "code",
   "execution_count": 69,
   "id": "2415027d",
   "metadata": {},
   "outputs": [
    {
     "name": "stdout",
     "output_type": "stream",
     "text": [
      "each person needs to pay = 27.0\n"
     ]
    }
   ],
   "source": [
    "#assigning of variables to the left of =\n",
    "#assignment of operator with the values and arithemetic expression\n",
    "#on the right side of the = assignment operator\n",
    "\n",
    "hotel_room = 100\n",
    "tax= hotel_room*0.08\n",
    "total= hotel_room + tax\n",
    "room_guest= 4\n",
    "share_per_person= total / room_guest\n",
    "\n",
    "#this line outputs the result of the final calculation\n",
    "\n",
    "print(\"each person needs to pay = \"+ str(share_per_person))"
   ]
  },
  {
   "cell_type": "code",
   "execution_count": 100,
   "id": "00c7e859",
   "metadata": {},
   "outputs": [
    {
     "name": "stdout",
     "output_type": "stream",
     "text": [
      "Dr. Prisha Jai Agarwal (Ph.D.)\n",
      "Dr. Prisha Jai Agarwal (Ph.D.)\n"
     ]
    }
   ],
   "source": [
    "#the following 5 lines assigns string to a list\n",
    "\n",
    "salutation = \"Dr.\"\n",
    "first_name = \"Prisha\"\n",
    "middle_name = \"Jai\"\n",
    "last_name = \"Agarwal\"\n",
    "suffix = \"(Ph.D.)\"\n",
    "print(salutation+\" \"+first_name+\" \"+middle_name+\" \"+last_name+\" \"+suffix)\n",
    "\n",
    "a=salutation+\" \"+first_name+\" \"+middle_name+\" \"+last_name+\" \"+suffix\n",
    "\n",
    "\n",
    "print(salutation, first_name, middle_name, last_name, suffix)"
   ]
  },
  {
   "cell_type": "code",
   "execution_count": 101,
   "id": "0ad450e1",
   "metadata": {},
   "outputs": [
    {
     "name": "stdout",
     "output_type": "stream",
     "text": [
      "Dr. Prisha Jai Agarwal (Ph.D.)\n"
     ]
    }
   ],
   "source": [
    "print(a)"
   ]
  },
  {
   "cell_type": "code",
   "execution_count": 75,
   "id": "a42ea5e0",
   "metadata": {},
   "outputs": [
    {
     "name": "stdout",
     "output_type": "stream",
     "text": [
      "How do you like Python so far?\n",
      "How do you like Python so far?\n",
      "How do you like Python so far?\n"
     ]
    }
   ],
   "source": [
    "#Quiz\n",
    "word1 = \"How\"\n",
    "word2 = \"do\"\n",
    "word3 = \"you\"\n",
    "word4 = \"like\"\n",
    "word5 = \"Python\"\n",
    "word6 = \"so\"\n",
    "word7 = \"far?\"\n",
    "\n",
    "print(word1+\" \" + word2+ \" \" + word3+ \" \" + word4 +\" \" + word5+\" \" + word6+\" \" + word7)\n",
    "\n",
    "a=word1+\" \" + word2+ \" \" + word3+ \" \" + word4 +\" \" + word5+\" \" + word6+\" \" + word7\n",
    "print(a)\n",
    "\n",
    "print(word1, word2,  word3, word4, word5, word6, word7)"
   ]
  },
  {
   "cell_type": "code",
   "execution_count": 76,
   "id": "f5fcb251",
   "metadata": {},
   "outputs": [
    {
     "name": "stdout",
     "output_type": "stream",
     "text": [
      "2+2 =4\n"
     ]
    }
   ],
   "source": [
    "#Quiz2\n",
    "print(\"2+2 =\" + str(2*2))"
   ]
  },
  {
   "cell_type": "markdown",
   "id": "1fc45bc2",
   "metadata": {},
   "source": [
    "In this scenario, two friends are eating dinner at a restaurant. The bill comes in the amount of 47.28 dollars. The friends decide to split the bill evenly between them, after adding 15% tip for the service. Calculate the tip, the total amount to pay, and each friend's share, then output a message saying \"Each person needs to pay: \" followed by the resulting number."
   ]
  },
  {
   "cell_type": "code",
   "execution_count": 92,
   "id": "5624e29b",
   "metadata": {
    "scrolled": true
   },
   "outputs": [
    {
     "name": "stdout",
     "output_type": "stream",
     "text": [
      "Each person needs to pay: $27.186\n"
     ]
    }
   ],
   "source": [
    "#Quiz3\n",
    "bill=47.28\n",
    "tip_rate=0.15\n",
    "tip=bill*tip_rate\n",
    "total=bill+tip\n",
    "number_of_friends=2\n",
    "each_friend_share=total/number_of_friends\n",
    "print(\"Each person needs to pay: $\" + str(each_friend_share))"
   ]
  },
  {
   "cell_type": "markdown",
   "id": "2403dc62",
   "metadata": {},
   "source": [
    "Funtions;\n",
    "1.def\n",
    "2.return"
   ]
  },
  {
   "cell_type": "code",
   "execution_count": 93,
   "id": "68d4731e",
   "metadata": {},
   "outputs": [],
   "source": [
    "def third_function(name, departments, age):\n",
    "    print(\"Welcome to our company, \" + name)\n",
    "    print(\"Your department is going to be = \" + departments)\n",
    "    print(\"Your age is \" + str(age))"
   ]
  },
  {
   "cell_type": "code",
   "execution_count": 94,
   "id": "1014afb9",
   "metadata": {},
   "outputs": [
    {
     "name": "stdout",
     "output_type": "stream",
     "text": [
      "Welcome to our company, Mary\n",
      "Your department is going to be = maternity word\n",
      "Your age is 24\n"
     ]
    }
   ],
   "source": [
    "third_function(\"Mary\", \"maternity ward\",\"24\")"
   ]
  },
  {
   "cell_type": "code",
   "execution_count": 98,
   "id": "e1370af7",
   "metadata": {},
   "outputs": [
    {
     "name": "stdout",
     "output_type": "stream",
     "text": [
      "Welcome to our company, Mary\n",
      "Your department is going to be = maternity ward\n",
      "Your age is 24\n"
     ]
    }
   ],
   "source": [
    "third_function(name=\"Mary\", departments=\"maternity ward\", age=24)"
   ]
  },
  {
   "cell_type": "code",
   "execution_count": null,
   "id": "aaca9cdf",
   "metadata": {},
   "outputs": [],
   "source": []
  }
 ],
 "metadata": {
  "kernelspec": {
   "display_name": "Python 3 (ipykernel)",
   "language": "python",
   "name": "python3"
  },
  "language_info": {
   "codemirror_mode": {
    "name": "ipython",
    "version": 3
   },
   "file_extension": ".py",
   "mimetype": "text/x-python",
   "name": "python",
   "nbconvert_exporter": "python",
   "pygments_lexer": "ipython3",
   "version": "3.11.4"
  }
 },
 "nbformat": 4,
 "nbformat_minor": 5
}
